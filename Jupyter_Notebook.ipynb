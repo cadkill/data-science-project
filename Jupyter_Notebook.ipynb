{
 "cells": [
  {
   "cell_type": "markdown",
   "metadata": {},
   "source": [
    "<center>\n",
    "    <img src=\"https://cf-courses-data.s3.us.cloud-object-storage.appdomain.cloud/IBMDeveloperSkillsNetwork-DS0105EN-SkillsNetwork/labs/Module2/images/SN_web_lightmode.png\" width=\"300\" alt=\"cognitiveclass.ai logo\">\n",
    "</center>\n"
   ]
  },
  {
   "cell_type": "markdown",
   "metadata": {},
   "source": [
    "#### Add your code below following the instructions given in the course\n"
   ]
  },
  {
   "cell_type": "code",
   "execution_count": null,
   "metadata": {},
   "outputs": [],
   "source": [
    "bash\n",
    "\n",
    "# Data Science Tools and Ecosystem\n",
    "\n",
    "kotlin\n",
    "\n",
    "In this notebook, we summarize the tools and techniques used in data science, along with examples of common programming languages and libraries.\n",
    "\n",
    "markdown\n",
    "\n",
    "### Common Data Science Languages:\n",
    "- Python\n",
    "- R\n",
    "- SQL\n",
    "- Julia\n",
    "\n",
    "markdown\n",
    "\n",
    "### Popular Data Science Libraries:\n",
    "- Pandas\n",
    "- NumPy\n",
    "- Matplotlib\n",
    "- Scikit-learn\n",
    "- TensorFlow\n",
    "\n",
    "kotlin\n",
    "\n",
    "### Data Science Tools\n",
    "| Tool            | Description                        |\n",
    "|-----------------|------------------------------------|\n",
    "| Jupyter Notebook| Interactive data exploration      |\n",
    "| RStudio         | Statistical computing             |\n",
    "| Apache Spark    | Big data processing               |\n",
    "\n",
    "\n",
    "shell\n",
    "\n",
    "### Arithmetic Expressions Examples\n",
    "Here are some examples of basic arithmetic expressions in Python.\n",
    "\n",
    "python\n",
    "Kodu kopyala\n",
    "# This code multiplies and adds numbers\n",
    "(5 * 4) + 10\n",
    "\n",
    "python\n",
    "\n",
    "# This code converts minutes to hours\n",
    "minutes = 200\n",
    "hours = minutes / 60\n",
    "hours\n",
    "\n",
    "markdown\n",
    "\n",
    "### Goals:\n",
    "- Understand the popular languages in data science\n",
    "- Learn about the tools used in data science\n",
    "- Practice basic arithmetic operations\n",
    "\n",
    "makefile\n",
    "\n",
    "**Author:** [Erdal Davut]\n",
    "\n"
   ]
  }
 ],
 "metadata": {
  "kernelspec": {
   "display_name": "Python 3 (ipykernel)",
   "language": "python",
   "name": "python3"
  },
  "language_info": {
   "codemirror_mode": {
    "name": "ipython",
    "version": 3
   },
   "file_extension": ".py",
   "mimetype": "text/x-python",
   "name": "python",
   "nbconvert_exporter": "python",
   "pygments_lexer": "ipython3",
   "version": "3.11.9"
  }
 },
 "nbformat": 4,
 "nbformat_minor": 4
}
